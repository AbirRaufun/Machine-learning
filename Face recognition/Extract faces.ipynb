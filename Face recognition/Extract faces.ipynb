{
 "cells": [
  {
   "cell_type": "code",
   "execution_count": null,
   "id": "f4218994",
   "metadata": {},
   "outputs": [],
   "source": [
    "import os\n",
    "import cv2\n",
    "from mtcnn.mtcnn import MTCNN\n",
    "from PIL import Image\n",
    "\n",
    "base_path = 'G:/AIUB\\MAchine learning/face recog with tranfer learning'  \n",
    "videos = {\n",
    "    'Abir': os.path.join(base_path, 'Abir_video.mp4'),\n",
    "    'Shakil': os.path.join(base_path, 'Shakil_video.mp4'),\n",
    "    'Amit': os.path.join(base_path, 'Amit_video.mp4'),\n",
    "}\n",
    "\n",
    "for name in videos:\n",
    "    os.makedirs(os.path.join(base_path, f'{name}_faces'), exist_ok=True)\n",
    "\n",
    "detector = MTCNN()\n",
    "\n",
    "def extract_faces(video_path, save_folder, person, max_faces=200):\n",
    "    cap = cv2.VideoCapture(video_path)\n",
    "    count = 0\n",
    "    frame_num = 0\n",
    "    while count < max_faces:\n",
    "        ret, frame = cap.read()\n",
    "        if not ret:\n",
    "            break\n",
    "        frame_num += 1\n",
    "        if frame_num % 5 != 0:\n",
    "            continue\n",
    "        rgb_frame = cv2.cvtColor(frame, cv2.COLOR_BGR2RGB)\n",
    "        results = detector.detect_faces(rgb_frame)\n",
    "        if results:\n",
    "            x1, y1, w, h = results[0]['box']\n",
    "            x1, y1 = abs(x1), abs(y1)\n",
    "            x2, y2 = x1 + w, y1 + h\n",
    "            face = rgb_frame[y1:y2, x1:x2]\n",
    "            face_img = Image.fromarray(face).resize((160,160))\n",
    "            face_img.save(os.path.join(save_folder, f'{person}_face_{count+1}.jpg'))\n",
    "            count += 1\n",
    "    cap.release()\n",
    "    print(f'Extracted {count} faces for {person}')\n",
    "\n",
    "for person, vid_path in videos.items():\n",
    "    extract_faces(vid_path, os.path.join(base_path, f'{person}_faces'), person)"
   ]
  },
  {
   "cell_type": "code",
   "execution_count": null,
   "id": "918a2805",
   "metadata": {},
   "outputs": [],
   "source": []
  }
 ],
 "metadata": {
  "language_info": {
   "name": "python"
  }
 },
 "nbformat": 4,
 "nbformat_minor": 5
}
